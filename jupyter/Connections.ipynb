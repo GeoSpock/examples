{
 "cells": [
  {
   "cell_type": "markdown",
   "metadata": {},
   "source": [
    "## Connecting to the GeoSpock SQL Access cluster\n",
    "There are many ways to connect Jupyter Notebooks to your GeoSpock presto cluster for SQL access. We give three examples\n",
    "here, with a username and password read from a local file, and the host string parameterised. There is also a quick\n",
    "query to run with each to demonstrate that results are returned as expected.\n",
    "\n",
    " - Using presto-python-client\n",
    " - Using sqlalchemy\n",
    " - Using ipython-sql\n",
    "\n",
    "### Setting up and reading credentials\n",
    "Please update the host (and port if necessary) in line with your deployment, and save your **GeoSpock DB** credentials\n",
    "as a username and password separated by a space in a `.geospockcredentials.txt` file in your home directory."
   ]
  },
  {
   "cell_type": "code",
   "execution_count": null,
   "metadata": {},
   "outputs": [],
   "source": [
    "from os.path import expanduser\n",
    "import pandas as pd\n",
    "\n",
    "home = expanduser(\"~\")\n",
    "with open(home + \"/.geospockcredentials.txt\", \"r\") as file:\n",
    "    x = file.readlines()\n",
    "\n",
    "[username,password] = x[0].split(\" \")\n",
    "host = \"<your deploymeny host>\"\n",
    "port = 8446"
   ]
  },
  {
   "cell_type": "markdown",
   "metadata": {},
   "source": [
    "### Connecting using presto-python-client\n",
    "An example using the `presto-python-client` package."
   ]
  },
  {
   "cell_type": "code",
   "execution_count": null,
   "metadata": {},
   "outputs": [],
   "source": [
    "import prestodb.dbapi as presto\n",
    "import prestodb\n",
    "\n",
    "conn = presto.Connection(\n",
    "    host=host,\n",
    "    port=port,\n",
    "    user=username,\n",
    "    http_scheme='https',\n",
    "    auth=prestodb.auth.BasicAuthentication(username, password))\n",
    "cur = conn.cursor()\n",
    "\n",
    "cur.execute('SELECT * FROM geospock.default.tweet LIMIT 10')\n",
    "result = cur.fetchall()\n",
    "\n",
    "df = pd.DataFrame(sorted(result, key=lambda x: x[2], reverse=True))\n",
    "display(df)"
   ]
  },
  {
   "cell_type": "markdown",
   "metadata": {},
   "source": [
    "### Connecting using sqlalchemy\n",
    "An example using the `sqlalchemy` package."
   ]
  },
  {
   "cell_type": "code",
   "execution_count": null,
   "metadata": {},
   "outputs": [],
   "source": [
    "from sqlalchemy.engine import create_engine\n",
    "\n",
    "# Presto\n",
    "engine = create_engine('presto://{username}:{password}@{host}:{port}'.format(username=username, password=password, host=host, port=port),\n",
    "                      connect_args={'protocol': 'https'})\n",
    "\n",
    "df = pd.read_sql('SELECT * FROM geospock.default.tweet LIMIT 10', engine)\n",
    "display(df)"
   ]
  },
  {
   "cell_type": "markdown",
   "metadata": {},
   "source": [
    "### Connecting using ipython-sql\n",
    "An example using the `ipython-sql` package."
   ]
  },
  {
   "cell_type": "code",
   "execution_count": null,
   "metadata": {},
   "outputs": [],
   "source": [
    "%load_ext sql\n",
    "\n",
    "%config SqlMagic.autocommit=False"
   ]
  },
  {
   "cell_type": "code",
   "execution_count": null,
   "metadata": {},
   "outputs": [],
   "source": [
    "%sql presto://{username}:{password}@{host}:{port}/geospock?protocol=https\n",
    "\n",
    "%sql SELECT * FROM geospock.default.tweet LIMIT 10"
   ]
  },
  {
   "cell_type": "code",
   "execution_count": null,
   "outputs": [],
   "source": [],
   "metadata": {
    "collapsed": false,
    "pycharm": {
     "name": "#%%\n"
    }
   }
  },
  {
   "cell_type": "code",
   "execution_count": null,
   "metadata": {},
   "outputs": [],
   "source": []
  }
 ],
 "metadata": {
  "kernelspec": {
   "display_name": "jupyter",
   "language": "python",
   "name": "jupyter"
  },
  "language_info": {
   "codemirror_mode": {
    "name": "ipython",
    "version": 3
   },
   "file_extension": ".py",
   "mimetype": "text/x-python",
   "name": "python",
   "nbconvert_exporter": "python",
   "pygments_lexer": "ipython3",
   "version": "3.7.5"
  }
 },
 "nbformat": 4,
 "nbformat_minor": 4
}