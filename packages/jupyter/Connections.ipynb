{
 "cells": [
  {
   "cell_type": "markdown",
   "metadata": {},
   "source": [
    "## Connecting to the GeoSpock SQL Access cluster"
   ]
  },
  {
   "cell_type": "markdown",
   "metadata": {},
   "source": [
    "There are many ways to connect Jupyter Notebooks to your GeoSpock presto cluster for SQL access. We give three examples here, with a username and password read from a local file and the host string parameterised. There is also a quick query to run with each to demonstrate that results are returned as expected.\n",
    "\n",
    " - Using presto-python-client\n",
    " - Using sqlalchemy\n",
    " - Using ipython-sql"
   ]
  },
  {
   "cell_type": "markdown",
   "metadata": {},
   "source": [
    "### Setting up and reading credentials"
   ]
  },
  {
   "cell_type": "markdown",
   "metadata": {},
   "source": [
    "Please update the host (and port if necessary) in line with your deployment, and save your GeoSpock credentials as a username and password separated by a space in a `.geospockcredentials.txt` file in your home directory."
   ]
  },
  {
   "cell_type": "code",
   "execution_count": 64,
   "metadata": {},
   "outputs": [],
   "source": [
    "from os.path import expanduser\n",
    "\n",
    "home = expanduser(\"~\")\n",
    "with open(home + \"/.geospockcredentials.txt\", \"r\") as file:\n",
    "    x = file.readlines()\n",
    "    \n",
    "[username,password] = x[0].split(\" \")\n",
    "host = \"<your deploymeny host>\"\n",
    "port = 8446"
   ]
  },
  {
   "cell_type": "markdown",
   "metadata": {},
   "source": [
    "### Connecting using presto-python-client"
   ]
  },
  {
   "cell_type": "markdown",
   "metadata": {},
   "source": [
    "To use presto-python-client, first run `pip install presto-python-client` at your command prompt."
   ]
  },
  {
   "cell_type": "code",
   "execution_count": 71,
   "metadata": {},
   "outputs": [
    {
     "data": {
      "text/html": [
       "<div>\n",
       "<style scoped>\n",
       "    .dataframe tbody tr th:only-of-type {\n",
       "        vertical-align: middle;\n",
       "    }\n",
       "\n",
       "    .dataframe tbody tr th {\n",
       "        vertical-align: top;\n",
       "    }\n",
       "\n",
       "    .dataframe thead th {\n",
       "        text-align: right;\n",
       "    }\n",
       "</style>\n",
       "<table border=\"1\" class=\"dataframe\">\n",
       "  <thead>\n",
       "    <tr style=\"text-align: right;\">\n",
       "      <th></th>\n",
       "      <th>0</th>\n",
       "      <th>1</th>\n",
       "      <th>2</th>\n",
       "      <th>3</th>\n",
       "      <th>4</th>\n",
       "    </tr>\n",
       "  </thead>\n",
       "  <tbody>\n",
       "    <tr>\n",
       "      <th>0</th>\n",
       "      <td>Wells Fargo</td>\n",
       "      <td>unknown</td>\n",
       "      <td>Wells Fargo Bank</td>\n",
       "      <td>34.840997</td>\n",
       "      <td>-82.363497</td>\n",
       "    </tr>\n",
       "    <tr>\n",
       "      <th>1</th>\n",
       "      <td>Wells Fargo</td>\n",
       "      <td>unknown</td>\n",
       "      <td>Wells Fargo Bank</td>\n",
       "      <td>34.851535</td>\n",
       "      <td>-82.395671</td>\n",
       "    </tr>\n",
       "    <tr>\n",
       "      <th>2</th>\n",
       "      <td>Suntrust Bank</td>\n",
       "      <td>unknown</td>\n",
       "      <td>SunTrust Bank</td>\n",
       "      <td>34.840418</td>\n",
       "      <td>-82.363554</td>\n",
       "    </tr>\n",
       "    <tr>\n",
       "      <th>3</th>\n",
       "      <td>Suntrust</td>\n",
       "      <td>Suntrust</td>\n",
       "      <td>SunTrust Bank</td>\n",
       "      <td>34.885805</td>\n",
       "      <td>-82.353804</td>\n",
       "    </tr>\n",
       "    <tr>\n",
       "      <th>4</th>\n",
       "      <td>Suntrust</td>\n",
       "      <td>Suntrust</td>\n",
       "      <td>SunTrust Bank</td>\n",
       "      <td>34.776407</td>\n",
       "      <td>-82.314119</td>\n",
       "    </tr>\n",
       "    <tr>\n",
       "      <th>5</th>\n",
       "      <td>Regions Bank Drive Through</td>\n",
       "      <td>unknown</td>\n",
       "      <td>Regions Bank</td>\n",
       "      <td>34.850946</td>\n",
       "      <td>-82.397663</td>\n",
       "    </tr>\n",
       "    <tr>\n",
       "      <th>6</th>\n",
       "      <td>Regions Bank</td>\n",
       "      <td>Regions Bank</td>\n",
       "      <td>Regions Bank</td>\n",
       "      <td>34.836923</td>\n",
       "      <td>-82.367071</td>\n",
       "    </tr>\n",
       "    <tr>\n",
       "      <th>7</th>\n",
       "      <td>Bank of America</td>\n",
       "      <td>unknown</td>\n",
       "      <td>Bank of America</td>\n",
       "      <td>34.826210</td>\n",
       "      <td>-82.396032</td>\n",
       "    </tr>\n",
       "    <tr>\n",
       "      <th>8</th>\n",
       "      <td>Bank of America</td>\n",
       "      <td>unknown</td>\n",
       "      <td>Bank of America</td>\n",
       "      <td>34.830817</td>\n",
       "      <td>-82.370332</td>\n",
       "    </tr>\n",
       "    <tr>\n",
       "      <th>9</th>\n",
       "      <td>Bank of America</td>\n",
       "      <td>Bank of America</td>\n",
       "      <td>Bank of America</td>\n",
       "      <td>34.881311</td>\n",
       "      <td>-82.358911</td>\n",
       "    </tr>\n",
       "  </tbody>\n",
       "</table>\n",
       "</div>"
      ],
      "text/plain": [
       "                            0                1                 2          3  \\\n",
       "0                 Wells Fargo          unknown  Wells Fargo Bank  34.840997   \n",
       "1                 Wells Fargo          unknown  Wells Fargo Bank  34.851535   \n",
       "2               Suntrust Bank          unknown     SunTrust Bank  34.840418   \n",
       "3                    Suntrust         Suntrust     SunTrust Bank  34.885805   \n",
       "4                    Suntrust         Suntrust     SunTrust Bank  34.776407   \n",
       "5  Regions Bank Drive Through          unknown      Regions Bank  34.850946   \n",
       "6                Regions Bank     Regions Bank      Regions Bank  34.836923   \n",
       "7             Bank of America          unknown   Bank of America  34.826210   \n",
       "8             Bank of America          unknown   Bank of America  34.830817   \n",
       "9             Bank of America  Bank of America   Bank of America  34.881311   \n",
       "\n",
       "           4  \n",
       "0 -82.363497  \n",
       "1 -82.395671  \n",
       "2 -82.363554  \n",
       "3 -82.353804  \n",
       "4 -82.314119  \n",
       "5 -82.397663  \n",
       "6 -82.367071  \n",
       "7 -82.396032  \n",
       "8 -82.370332  \n",
       "9 -82.358911  "
      ]
     },
     "metadata": {},
     "output_type": "display_data"
    }
   ],
   "source": [
    "import prestodb.dbapi as presto\n",
    "import prestodb\n",
    "\n",
    "conn = presto.Connection(\n",
    "    host=host, \n",
    "    port=port, \n",
    "    user=username,\n",
    "    http_scheme='https',\n",
    "    auth=prestodb.auth.BasicAuthentication(username, password))\n",
    "cur = conn.cursor()\n",
    "\n",
    "cur.execute('SELECT * from geospock.banks.default LIMIT 10')\n",
    "result = cur.fetchall()\n",
    "\n",
    "df = pd.DataFrame(sorted(result, key=lambda x: x[2], reverse=True))\n",
    "display(df)"
   ]
  },
  {
   "cell_type": "markdown",
   "metadata": {},
   "source": [
    "### Connecting using sqlalchemy"
   ]
  },
  {
   "cell_type": "markdown",
   "metadata": {},
   "source": [
    "To use sqlalchemy, first run `pip install sqlalchemy` at your command prompt."
   ]
  },
  {
   "cell_type": "code",
   "execution_count": 70,
   "metadata": {},
   "outputs": [
    {
     "data": {
      "text/html": [
       "<div>\n",
       "<style scoped>\n",
       "    .dataframe tbody tr th:only-of-type {\n",
       "        vertical-align: middle;\n",
       "    }\n",
       "\n",
       "    .dataframe tbody tr th {\n",
       "        vertical-align: top;\n",
       "    }\n",
       "\n",
       "    .dataframe thead th {\n",
       "        text-align: right;\n",
       "    }\n",
       "</style>\n",
       "<table border=\"1\" class=\"dataframe\">\n",
       "  <thead>\n",
       "    <tr style=\"text-align: right;\">\n",
       "      <th></th>\n",
       "      <th>bank_brand</th>\n",
       "      <th>bank_brand_4</th>\n",
       "      <th>bank_brand_6</th>\n",
       "      <th>latitude</th>\n",
       "      <th>longitude</th>\n",
       "    </tr>\n",
       "  </thead>\n",
       "  <tbody>\n",
       "    <tr>\n",
       "      <th>0</th>\n",
       "      <td>Chase</td>\n",
       "      <td>unknown</td>\n",
       "      <td>JPMorgan Chase Bank</td>\n",
       "      <td>40.769781</td>\n",
       "      <td>-73.981820</td>\n",
       "    </tr>\n",
       "    <tr>\n",
       "      <th>1</th>\n",
       "      <td>Bank of America</td>\n",
       "      <td>unknown</td>\n",
       "      <td>Bank of America</td>\n",
       "      <td>40.771105</td>\n",
       "      <td>-73.981835</td>\n",
       "    </tr>\n",
       "    <tr>\n",
       "      <th>2</th>\n",
       "      <td>Chase</td>\n",
       "      <td>unknown</td>\n",
       "      <td>JPMorgan Chase Bank</td>\n",
       "      <td>40.774518</td>\n",
       "      <td>-73.981135</td>\n",
       "    </tr>\n",
       "    <tr>\n",
       "      <th>3</th>\n",
       "      <td>Chase</td>\n",
       "      <td>unknown</td>\n",
       "      <td>JPMorgan Chase Bank</td>\n",
       "      <td>40.777675</td>\n",
       "      <td>-73.978887</td>\n",
       "    </tr>\n",
       "    <tr>\n",
       "      <th>4</th>\n",
       "      <td>Chase</td>\n",
       "      <td>unknown</td>\n",
       "      <td>JPMorgan Chase Bank</td>\n",
       "      <td>40.779807</td>\n",
       "      <td>-73.976776</td>\n",
       "    </tr>\n",
       "  </tbody>\n",
       "</table>\n",
       "</div>"
      ],
      "text/plain": [
       "        bank_brand bank_brand_4         bank_brand_6   latitude  longitude\n",
       "0            Chase      unknown  JPMorgan Chase Bank  40.769781 -73.981820\n",
       "1  Bank of America      unknown      Bank of America  40.771105 -73.981835\n",
       "2            Chase      unknown  JPMorgan Chase Bank  40.774518 -73.981135\n",
       "3            Chase      unknown  JPMorgan Chase Bank  40.777675 -73.978887\n",
       "4            Chase      unknown  JPMorgan Chase Bank  40.779807 -73.976776"
      ]
     },
     "execution_count": 70,
     "metadata": {},
     "output_type": "execute_result"
    }
   ],
   "source": [
    "import pandas as pd\n",
    "from sqlalchemy.engine import create_engine\n",
    "\n",
    "# Presto\n",
    "engine = create_engine('presto://{username}:{password}@{host}:{port}'.format(username=username, password=password, host=host, port=port),\n",
    "                      connect_args={'protocol': 'https'}) \n",
    "\n",
    "query = 'select * from geospock.banks.default limit 10'\n",
    "\n",
    "df = pd.read_sql(query, engine)\n",
    "df.head()"
   ]
  },
  {
   "cell_type": "markdown",
   "metadata": {},
   "source": [
    "### Connecting using ipython-sql"
   ]
  },
  {
   "cell_type": "markdown",
   "metadata": {},
   "source": [
    "To use ipython-sql, first run `pip install ipython-sql` at your command prompt."
   ]
  },
  {
   "cell_type": "code",
   "execution_count": 72,
   "metadata": {},
   "outputs": [
    {
     "name": "stdout",
     "output_type": "stream",
     "text": [
      ""
     ]
    }
   ],
   "source": [
    "%load_ext sql\n",
    "\n",
    "%config SqlMagic.autocommit=False"
   ]
  },
  {
   "cell_type": "code",
   "execution_count": 73,
   "metadata": {},
   "outputs": [
    {
     "name": "stdout",
     "output_type": "stream",
     "text": [
      "Done.\n"
     ]
    },
    {
     "data": {
      "text/html": [
       "<table>\n",
       "    <tr>\n",
       "        <th>bank_brand</th>\n",
       "        <th>bank_brand_4</th>\n",
       "        <th>bank_brand_6</th>\n",
       "        <th>latitude</th>\n",
       "        <th>longitude</th>\n",
       "    </tr>\n",
       "    <tr>\n",
       "        <td>Chase</td>\n",
       "        <td>unknown</td>\n",
       "        <td>JPMorgan Chase Bank</td>\n",
       "        <td>40.7697814</td>\n",
       "        <td>-73.9818199</td>\n",
       "    </tr>\n",
       "    <tr>\n",
       "        <td>Bank of America</td>\n",
       "        <td>unknown</td>\n",
       "        <td>Bank of America</td>\n",
       "        <td>40.7711048</td>\n",
       "        <td>-73.9818347</td>\n",
       "    </tr>\n",
       "    <tr>\n",
       "        <td>Chase</td>\n",
       "        <td>unknown</td>\n",
       "        <td>JPMorgan Chase Bank</td>\n",
       "        <td>40.7745185</td>\n",
       "        <td>-73.9811352</td>\n",
       "    </tr>\n",
       "    <tr>\n",
       "        <td>Chase</td>\n",
       "        <td>unknown</td>\n",
       "        <td>JPMorgan Chase Bank</td>\n",
       "        <td>40.7776752</td>\n",
       "        <td>-73.978887</td>\n",
       "    </tr>\n",
       "    <tr>\n",
       "        <td>Chase</td>\n",
       "        <td>unknown</td>\n",
       "        <td>JPMorgan Chase Bank</td>\n",
       "        <td>40.7798071</td>\n",
       "        <td>-73.9767764</td>\n",
       "    </tr>\n",
       "    <tr>\n",
       "        <td>Chase</td>\n",
       "        <td>unknown</td>\n",
       "        <td>JPMorgan Chase Bank</td>\n",
       "        <td>40.7652782</td>\n",
       "        <td>-73.9642202</td>\n",
       "    </tr>\n",
       "    <tr>\n",
       "        <td>Bank of America</td>\n",
       "        <td>unknown</td>\n",
       "        <td>Bank of America</td>\n",
       "        <td>40.7651106</td>\n",
       "        <td>-73.9637106</td>\n",
       "    </tr>\n",
       "    <tr>\n",
       "        <td>Chase</td>\n",
       "        <td>unknown</td>\n",
       "        <td>JPMorgan Chase Bank</td>\n",
       "        <td>40.742701600000004</td>\n",
       "        <td>-73.95287643258229</td>\n",
       "    </tr>\n",
       "    <tr>\n",
       "        <td>Chase</td>\n",
       "        <td>unknown</td>\n",
       "        <td>JPMorgan Chase Bank</td>\n",
       "        <td>40.74261155</td>\n",
       "        <td>-73.91838275696541</td>\n",
       "    </tr>\n",
       "    <tr>\n",
       "        <td>Chase</td>\n",
       "        <td>unknown</td>\n",
       "        <td>JPMorgan Chase Bank</td>\n",
       "        <td>40.7677332</td>\n",
       "        <td>-73.9563296</td>\n",
       "    </tr>\n",
       "</table>"
      ],
      "text/plain": [
       "[('Chase', 'unknown', 'JPMorgan Chase Bank', 40.7697814, -73.9818199),\n",
       " ('Bank of America', 'unknown', 'Bank of America', 40.7711048, -73.9818347),\n",
       " ('Chase', 'unknown', 'JPMorgan Chase Bank', 40.7745185, -73.9811352),\n",
       " ('Chase', 'unknown', 'JPMorgan Chase Bank', 40.7776752, -73.978887),\n",
       " ('Chase', 'unknown', 'JPMorgan Chase Bank', 40.7798071, -73.9767764),\n",
       " ('Chase', 'unknown', 'JPMorgan Chase Bank', 40.7652782, -73.9642202),\n",
       " ('Bank of America', 'unknown', 'Bank of America', 40.7651106, -73.9637106),\n",
       " ('Chase', 'unknown', 'JPMorgan Chase Bank', 40.742701600000004, -73.95287643258229),\n",
       " ('Chase', 'unknown', 'JPMorgan Chase Bank', 40.74261155, -73.91838275696541),\n",
       " ('Chase', 'unknown', 'JPMorgan Chase Bank', 40.7677332, -73.9563296)]"
      ]
     },
     "execution_count": 73,
     "metadata": {},
     "output_type": "execute_result"
    }
   ],
   "source": [
    "%sql presto://{username}:{password}@{host}:{port}/geospock?protocol=https\n",
    "\n",
    "%sql select * from geospock.banks.default limit 10"
   ]
  }
 ],
 "metadata": {
  "kernelspec": {
   "display_name": "Python 3",
   "language": "python",
   "name": "python3"
  },
  "language_info": {
   "codemirror_mode": {
    "name": "ipython",
    "version": 3
   },
   "file_extension": ".py",
   "mimetype": "text/x-python",
   "name": "python",
   "nbconvert_exporter": "python",
   "pygments_lexer": "ipython3",
   "version": "3.7.2"
  }
 },
 "nbformat": 4,
 "nbformat_minor": 4
}
