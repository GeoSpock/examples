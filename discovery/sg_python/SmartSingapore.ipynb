{
 "cells": [
  {
   "cell_type": "markdown",
   "metadata": {
    "slideshow": {
     "slide_type": "slide"
    }
   },
   "source": [
    "# Introduction"
   ]
  },
  {
   "cell_type": "markdown",
   "metadata": {
    "slideshow": {
     "slide_type": "-"
    }
   },
   "source": [
    "- The code in this python jupyter notebook is to be used jointly with a GeoSpock DB Discovery deployment for which you can sign up [here](https://geospock.com/en/product/geospock-db-discovery/). \n",
    "- GeoSpock DB Discovery provides a way to experience the power of GeoSpock DB without having to pay any license fees. Typically available for a short trial period, GeoSpock DB Discovery gives you control of your own query engine and allows you to run queries using standard ANSI SQL against a range of pre-selected datasets.\n",
    "- It is recommended to execute the following code using a cluster of no less than 10 nodes.\n",
    "- Finally, further documentation on GeoSpock DB Discovery and geospatial queries can be found [here](https://docs.geospock.com/discovery/about/)."
   ]
  },
  {
   "cell_type": "markdown",
   "metadata": {
    "slideshow": {
     "slide_type": "slide"
    }
   },
   "source": [
    "# Case Study: Road Traffic Accident investigation in Singapore"
   ]
  },
  {
   "cell_type": "markdown",
   "metadata": {
    "slideshow": {
     "slide_type": "-"
    }
   },
   "source": [
    "As an example of using the GeoSpock platform in a potentially real life scenario, where you will assume the role of an accident investigator that is looking to understand to understand a road accident. \n",
    "\n",
    "We first of all load some libraries, define a few helpful functions, and set up a connection to the database, before launching the investigation."
   ]
  },
  {
   "cell_type": "markdown",
   "metadata": {
    "slideshow": {
     "slide_type": "skip"
    }
   },
   "source": [
    "### Import libraries"
   ]
  },
  {
   "cell_type": "code",
   "execution_count": 1,
   "metadata": {
    "slideshow": {
     "slide_type": "skip"
    }
   },
   "outputs": [
    {
     "data": {
      "text/html": [
       "<style>.container { width:90% !important; }</style>"
      ],
      "text/plain": [
       "<IPython.core.display.HTML object>"
      ]
     },
     "metadata": {},
     "output_type": "display_data"
    }
   ],
   "source": [
    "import prestodb\n",
    "import os\n",
    "import pandas as pd\n",
    "import numpy as np\n",
    "import matplotlib.pyplot as plt\n",
    "%matplotlib inline\n",
    "pd.set_option('display.max_columns',500)\n",
    "\n",
    "from IPython.core.display import display, HTML\n",
    "display(HTML(\"<style>.container { width:90% !important; }</style>\"))\n",
    "\n",
    "import matplotlib.ticker as ticker\n",
    "from matplotlib.ticker import FormatStrFormatter\n",
    "\n",
    "import keplergl\n",
    "import json\n",
    "\n",
    "import datetime\n",
    "\n",
    "from os.path import expanduser"
   ]
  },
  {
   "cell_type": "markdown",
   "metadata": {
    "slideshow": {
     "slide_type": "skip"
    }
   },
   "source": [
    "## Auxiliary Functions"
   ]
  },
  {
   "cell_type": "code",
   "execution_count": 2,
   "metadata": {
    "slideshow": {
     "slide_type": "skip"
    }
   },
   "outputs": [],
   "source": [
    "def getcolnames(cnn,tbl):\n",
    "    cur=cnn.cursor()\n",
    "    querycolumnnames=\"SHOW COLUMNS FROM geospock.default.\"+tbl\n",
    "    cur.execute(querycolumnnames)\n",
    "    cols=cur.fetchall()\n",
    "    colnames = [col[0] for col in cols]\n",
    "    cur.close()\n",
    "    return colnames"
   ]
  },
  {
   "cell_type": "code",
   "execution_count": 3,
   "metadata": {
    "slideshow": {
     "slide_type": "skip"
    }
   },
   "outputs": [],
   "source": [
    "def showtables(cnn):\n",
    "    cur=cnn.cursor()\n",
    "    querycolumnnames='SHOW TABLES FROM geospock.default'\n",
    "    cur.execute(querycolumnnames)\n",
    "    cols=cur.fetchall()\n",
    "    colnames = [col[0] for col in cols]\n",
    "    cur.close()\n",
    "    return colnames"
   ]
  },
  {
   "cell_type": "code",
   "execution_count": 4,
   "metadata": {
    "slideshow": {
     "slide_type": "skip"
    }
   },
   "outputs": [],
   "source": [
    "def getschemas(cnn):\n",
    "    cur=cnn.cursor()\n",
    "    querycolumnnames='SHOW SCHEMAS FROM geospock'\n",
    "    cur.execute(querycolumnnames)\n",
    "    cols=cur.fetchall()\n",
    "    colnames = [col[0] for col in cols]\n",
    "    cur.close()\n",
    "    return colnames"
   ]
  },
  {
   "cell_type": "code",
   "execution_count": 5,
   "metadata": {
    "slideshow": {
     "slide_type": "skip"
    }
   },
   "outputs": [],
   "source": [
    "def runquery(cnn,cls,querytext):\n",
    "    sttime = datetime.datetime.now()\n",
    "    print(\"Starting query at: \"+str(sttime)+\".....\")\n",
    "    cur = cnn.cursor()\n",
    "    cur.execute(querytext)\n",
    "    rows = cur.fetchall()\n",
    "    cur.close()\n",
    "    endtime = datetime.datetime.now()\n",
    "    print(\"Finished query at: \"+str(endtime)+\".\")\n",
    "    tdelt=(endtime-sttime).seconds\n",
    "    print(\"Query duration: \"+str(tdelt)+\" seconds.\")\n",
    "    print(\"Rows returned: \"+str(len(rows)))\n",
    "    return pd.DataFrame(rows,columns=cls)"
   ]
  },
  {
   "cell_type": "code",
   "execution_count": 6,
   "metadata": {
    "slideshow": {
     "slide_type": "skip"
    }
   },
   "outputs": [],
   "source": [
    "def runqueryvanilla(cnn,querytext):\n",
    "    cur = cnn.cursor()\n",
    "    cur.execute(querytext)\n",
    "    rows = cur.fetchall()\n",
    "    cur.close()\n",
    "    return rows"
   ]
  },
  {
   "cell_type": "code",
   "execution_count": 7,
   "metadata": {
    "slideshow": {
     "slide_type": "skip"
    }
   },
   "outputs": [],
   "source": [
    "def load_kepler_config(config_filename):\n",
    "    with open(config_filename, 'r') as f:\n",
    "        config = json.load(f)\n",
    "    print(config_filename, 'opened')        \n",
    "    return config"
   ]
  },
  {
   "cell_type": "code",
   "execution_count": 8,
   "metadata": {
    "slideshow": {
     "slide_type": "skip"
    }
   },
   "outputs": [],
   "source": [
    "def save_kepler_config(config, config_filename, write_kepler):\n",
    "    if write_kepler:\n",
    "        with open(config_filename, 'w') as f:\n",
    "            json.dump(config, f)\n",
    "        print(config_filename, 'saved')\n",
    "    else:\n",
    "        print(config_filename, 'NOT saved')"
   ]
  },
  {
   "cell_type": "code",
   "execution_count": 9,
   "metadata": {
    "slideshow": {
     "slide_type": "skip"
    }
   },
   "outputs": [],
   "source": [
    "def create_dir(dirName):\n",
    "    if not os.path.exists(dirName):\n",
    "        os.mkdir(dirName)\n",
    "        print(\"Directory \" , dirName ,  \" Created \")\n",
    "    else:    \n",
    "        print(\"Directory \" , dirName ,  \" already exists\")"
   ]
  },
  {
   "cell_type": "code",
   "execution_count": 10,
   "metadata": {
    "slideshow": {
     "slide_type": "skip"
    }
   },
   "outputs": [],
   "source": [
    "def makeconn(hstb,uname,pswd, authentication):\n",
    "    if authentication == 'HTTP':\n",
    "        return prestodb.dbapi.connect(\n",
    "            host=hstb,\n",
    "            port=80,\n",
    "            user=uname.strip(),\n",
    "            catalog='geospock',\n",
    "            schema='default',\n",
    "            http_scheme='http'\n",
    "            )\n",
    "    elif authentication == 'HTTPS':\n",
    "        return prestodb.dbapi.connect(\n",
    "        host=hstb,\n",
    "        port=443,\n",
    "        user=uname.strip(),\n",
    "        catalog='geospock',\n",
    "        schema='default',\n",
    "        http_scheme='https',    \n",
    "        auth=prestodb.auth.BasicAuthentication(uname.strip(), pswd.strip())\n",
    "        )\n",
    "    else:\n",
    "        print('Aunthentication method not valid')"
   ]
  },
  {
   "cell_type": "markdown",
   "metadata": {
    "slideshow": {
     "slide_type": "skip"
    }
   },
   "source": [
    "# Specify Authentication Methods\n",
    "\n",
    "### HTTP authentication method\n",
    "### If you are NOT using the SSL option in the Cloudformation script the following parameters are used in the connection functions below.\n",
    "- host = assign real value, e.g. `disco-Prest-26Z2LD7S11IPM-2177915702.ap-southeast-1.elb.amazonaws.com`\n",
    "- port = 80\n",
    "- username = 'username' \n",
    "- password = ''\n",
    "- http_scheme = 'http'\n",
    "- commented #auth=prestodb.auth.BasicAuthentication(uname.strip(), pswd.strip())\n",
    "\n",
    "### HTTPS authentication method\n",
    "### If you ARE using the SSL option in the Cloudformation script the following parameters are used in the connection functions below.\n",
    "- host = assign its real value e.g. `discovery.companyname.com`\n",
    "- port = 443\n",
    "- username = 'username' \n",
    "- password = ''\n",
    "- http_scheme = 'https'\n",
    "- auth=prestodb.auth.BasicAuthentication(uname.strip(), pswd.strip())"
   ]
  },
  {
   "cell_type": "code",
   "execution_count": 11,
   "metadata": {
    "slideshow": {
     "slide_type": "skip"
    }
   },
   "outputs": [
    {
     "name": "stdout",
     "output_type": "stream",
     "text": [
      "Aunthentication method not valid\n"
     ]
    }
   ],
   "source": [
    "# Remember to change GeoSpockDBDiscoveryHostname for its respective value\n",
    "# e.g disco-Prest-26Z2LD7S11IPM-2177915702.ap-southeast-1.elb.amazonaws.com \n",
    "# or discovery.companyname.com \n",
    "# depending if HTTP or HTTPS is to be used\n",
    "# username and password are to be left with these default values\n",
    "host            = \"\"\"GeoSpockDBDiscoveryHostname\"\"\"\n",
    "username       = 'username'\n",
    "password       = ''\n",
    "authentication = '' # HTTP or HTTPS\n",
    "newconn        = makeconn(host, username, password,authentication)"
   ]
  },
  {
   "cell_type": "markdown",
   "metadata": {
    "slideshow": {
     "slide_type": "skip"
    }
   },
   "source": [
    "### Specify if to download data to local or modify Kepler configuration"
   ]
  },
  {
   "cell_type": "code",
   "execution_count": 12,
   "metadata": {
    "slideshow": {
     "slide_type": "skip"
    }
   },
   "outputs": [],
   "source": [
    "write_data   = True\n",
    "write_kepler = False"
   ]
  },
  {
   "cell_type": "code",
   "execution_count": 13,
   "metadata": {
    "slideshow": {
     "slide_type": "skip"
    }
   },
   "outputs": [
    {
     "name": "stdout",
     "output_type": "stream",
     "text": [
      "Directory  local_data  already exists\n"
     ]
    }
   ],
   "source": [
    "create_dir(\"local_data\")"
   ]
  },
  {
   "cell_type": "markdown",
   "metadata": {
    "slideshow": {
     "slide_type": "slide"
    }
   },
   "source": [
    "# Case Study: Accident investigation in Singapore\n",
    "\n",
    "A **traffic accident occurred on 30th August, 2019**, which is of interest to various authorities.\n",
    "   \n",
    "An investigator has asked for our help in examining the accidents data from that date, with a view to identifying the accident, and the behavior of vehicles associated with it.\n",
    "\n",
    "We first get a list of all the accidents on a particular day, from **764,839 yearly incidents**. This query takes advantage of timestamp indexing:"
   ]
  },
  {
   "cell_type": "markdown",
   "metadata": {
    "slideshow": {
     "slide_type": "subslide"
    }
   },
   "source": [
    "## Q1: Accidents on 30-08-2019"
   ]
  },
  {
   "cell_type": "code",
   "execution_count": 14,
   "metadata": {
    "slideshow": {
     "slide_type": "-"
    }
   },
   "outputs": [],
   "source": [
    "QUERY_accidents_on_date=\"\"\"\n",
    "SELECT event.*\n",
    "  FROM geospock.default.sg_traffic_incidents AS event \n",
    " WHERE event.timestamp BETWEEN TIMESTAMP '2019-08-30 00:00:00' AND TIMESTAMP '2019-08-31 00:00:00' \n",
    "   AND event.type IN ('Accident')\n",
    "\"\"\""
   ]
  },
  {
   "cell_type": "code",
   "execution_count": 15,
   "metadata": {
    "slideshow": {
     "slide_type": "-"
    }
   },
   "outputs": [
    {
     "name": "stdout",
     "output_type": "stream",
     "text": [
      "Starting query at: 2020-10-03 18:37:22.749427.....\n",
      "Finished query at: 2020-10-03 18:37:25.105932.\n",
      "Query duration: 2 seconds.\n",
      "Rows returned: 140\n"
     ]
    }
   ],
   "source": [
    "accidentv3cols  = ['latitude', 'longitude', 'month_timestamp', 'message', 'type',  'timestamp']\n",
    "# Run query live\n",
    "accidentsondate = runquery(newconn, accidentv3cols,QUERY_accidents_on_date)\\\n",
    "                  .drop_duplicates(subset=['latitude', 'longitude' ,'timestamp'])\\\n",
    "                  .sort_values(\"timestamp\").reset_index().drop(\"index\",axis=1)"
   ]
  },
  {
   "cell_type": "code",
   "execution_count": 16,
   "metadata": {
    "slideshow": {
     "slide_type": "skip"
    }
   },
   "outputs": [],
   "source": [
    "# Read or write DF locally\n",
    "if write_data:\n",
    "    accidentsondate.to_csv(\"local_data/accidentsondateDF.csv\",header=True,index=False)\n",
    "# accidentsondate=pd.read_csv(\"local_data/accidentsondateDF.csv\")"
   ]
  },
  {
   "cell_type": "markdown",
   "metadata": {
    "slideshow": {
     "slide_type": "subslide"
    }
   },
   "source": [
    "How many road accidents occurred on the day in question?"
   ]
  },
  {
   "cell_type": "code",
   "execution_count": 17,
   "metadata": {
    "slideshow": {
     "slide_type": "-"
    }
   },
   "outputs": [
    {
     "data": {
      "text/plain": [
       "46"
      ]
     },
     "execution_count": 17,
     "metadata": {},
     "output_type": "execute_result"
    }
   ],
   "source": [
    "len(accidentsondate)"
   ]
  },
  {
   "cell_type": "code",
   "execution_count": 18,
   "metadata": {
    "slideshow": {
     "slide_type": "skip"
    }
   },
   "outputs": [
    {
     "data": {
      "text/html": [
       "<div>\n",
       "<style scoped>\n",
       "    .dataframe tbody tr th:only-of-type {\n",
       "        vertical-align: middle;\n",
       "    }\n",
       "\n",
       "    .dataframe tbody tr th {\n",
       "        vertical-align: top;\n",
       "    }\n",
       "\n",
       "    .dataframe thead th {\n",
       "        text-align: right;\n",
       "    }\n",
       "</style>\n",
       "<table border=\"1\" class=\"dataframe\">\n",
       "  <thead>\n",
       "    <tr style=\"text-align: right;\">\n",
       "      <th></th>\n",
       "      <th>latitude</th>\n",
       "      <th>longitude</th>\n",
       "      <th>month_timestamp</th>\n",
       "      <th>message</th>\n",
       "      <th>type</th>\n",
       "      <th>timestamp</th>\n",
       "    </tr>\n",
       "  </thead>\n",
       "  <tbody>\n",
       "    <tr>\n",
       "      <th>29</th>\n",
       "      <td>1.329156</td>\n",
       "      <td>103.855434</td>\n",
       "      <td>2019-08-01 00:00:00.000</td>\n",
       "      <td>(30/8)16:15 Accident on PIE (towards Changi Ai...</td>\n",
       "      <td>Accident</td>\n",
       "      <td>2019-08-30 16:15:00.000</td>\n",
       "    </tr>\n",
       "    <tr>\n",
       "      <th>30</th>\n",
       "      <td>1.279022</td>\n",
       "      <td>103.857211</td>\n",
       "      <td>2019-08-01 00:00:00.000</td>\n",
       "      <td>(30/8)17:23 Accident on Bayfront Avenue near B...</td>\n",
       "      <td>Accident</td>\n",
       "      <td>2019-08-30 17:23:00.000</td>\n",
       "    </tr>\n",
       "    <tr>\n",
       "      <th>31</th>\n",
       "      <td>1.365551</td>\n",
       "      <td>103.953212</td>\n",
       "      <td>2019-08-01 00:00:00.000</td>\n",
       "      <td>(30/8)17:51 Accident on TPE (towards SLE) afte...</td>\n",
       "      <td>Accident</td>\n",
       "      <td>2019-08-30 17:51:00.000</td>\n",
       "    </tr>\n",
       "    <tr>\n",
       "      <th>32</th>\n",
       "      <td>1.389820</td>\n",
       "      <td>103.761085</td>\n",
       "      <td>2019-08-01 00:00:00.000</td>\n",
       "      <td>(30/8)17:55 Accident on KJE (towards BKE) afte...</td>\n",
       "      <td>Accident</td>\n",
       "      <td>2019-08-30 17:55:00.000</td>\n",
       "    </tr>\n",
       "    <tr>\n",
       "      <th>33</th>\n",
       "      <td>1.316207</td>\n",
       "      <td>103.758745</td>\n",
       "      <td>2019-08-01 00:00:00.000</td>\n",
       "      <td>(30/8)18:40 Accident on AYE (towards MCE) befo...</td>\n",
       "      <td>Accident</td>\n",
       "      <td>2019-08-30 18:40:00.000</td>\n",
       "    </tr>\n",
       "    <tr>\n",
       "      <th>34</th>\n",
       "      <td>1.333915</td>\n",
       "      <td>103.978025</td>\n",
       "      <td>2019-08-01 00:00:00.000</td>\n",
       "      <td>(30/8)18:43 Accident on ECP (towards Changi Ai...</td>\n",
       "      <td>Accident</td>\n",
       "      <td>2019-08-30 18:43:00.000</td>\n",
       "    </tr>\n",
       "  </tbody>\n",
       "</table>\n",
       "</div>"
      ],
      "text/plain": [
       "    latitude   longitude          month_timestamp  \\\n",
       "29  1.329156  103.855434  2019-08-01 00:00:00.000   \n",
       "30  1.279022  103.857211  2019-08-01 00:00:00.000   \n",
       "31  1.365551  103.953212  2019-08-01 00:00:00.000   \n",
       "32  1.389820  103.761085  2019-08-01 00:00:00.000   \n",
       "33  1.316207  103.758745  2019-08-01 00:00:00.000   \n",
       "34  1.333915  103.978025  2019-08-01 00:00:00.000   \n",
       "\n",
       "                                              message      type  \\\n",
       "29  (30/8)16:15 Accident on PIE (towards Changi Ai...  Accident   \n",
       "30  (30/8)17:23 Accident on Bayfront Avenue near B...  Accident   \n",
       "31  (30/8)17:51 Accident on TPE (towards SLE) afte...  Accident   \n",
       "32  (30/8)17:55 Accident on KJE (towards BKE) afte...  Accident   \n",
       "33  (30/8)18:40 Accident on AYE (towards MCE) befo...  Accident   \n",
       "34  (30/8)18:43 Accident on ECP (towards Changi Ai...  Accident   \n",
       "\n",
       "                  timestamp  \n",
       "29  2019-08-30 16:15:00.000  \n",
       "30  2019-08-30 17:23:00.000  \n",
       "31  2019-08-30 17:51:00.000  \n",
       "32  2019-08-30 17:55:00.000  \n",
       "33  2019-08-30 18:40:00.000  \n",
       "34  2019-08-30 18:43:00.000  "
      ]
     },
     "execution_count": 18,
     "metadata": {},
     "output_type": "execute_result"
    }
   ],
   "source": [
    "accidentsondate.loc[29:34,:]"
   ]
  },
  {
   "cell_type": "markdown",
   "metadata": {
    "slideshow": {
     "slide_type": "-"
    }
   },
   "source": [
    "We see that there are  **46 accidents on the day of interest**.\n",
    "\n",
    "The investigator informs us that **the accident occurring at 17:51 near the airport** is the one of particular interest. The speed camera locations are potential sources of key information so we also query this dataset to examine alongside the accidents data. "
   ]
  },
  {
   "cell_type": "markdown",
   "metadata": {
    "slideshow": {
     "slide_type": "slide"
    }
   },
   "source": [
    "## Q2: Speed camera locations"
   ]
  },
  {
   "cell_type": "markdown",
   "metadata": {},
   "source": [
    "Furthermore, we look for the speed cameras in the vicinity of the accident:"
   ]
  },
  {
   "cell_type": "code",
   "execution_count": 19,
   "metadata": {
    "slideshow": {
     "slide_type": "-"
    }
   },
   "outputs": [
    {
     "name": "stdout",
     "output_type": "stream",
     "text": [
      "Starting query at: 2020-10-03 18:37:25.304801.....\n",
      "Finished query at: 2020-10-03 18:37:26.694597.\n",
      "Query duration: 1 seconds.\n",
      "Rows returned: 48\n"
     ]
    }
   ],
   "source": [
    "speedcameracols            = ['lat', 'long', 'name']\n",
    "QUERY_speedcameralocations = \"SELECT * FROM geospock.default.sg_speed_laser_camera\"\n",
    "# Run query live\n",
    "speedcameralocations       = runquery(newconn, speedcameracols,QUERY_speedcameralocations)"
   ]
  },
  {
   "cell_type": "code",
   "execution_count": 20,
   "metadata": {
    "slideshow": {
     "slide_type": "skip"
    }
   },
   "outputs": [],
   "source": [
    "# Read or write DF locally\n",
    "if write_data:\n",
    "     speedcameralocations.to_csv(\"local_data/speedcameralocationsDF.csv\",header=True,index=False)\n",
    "# speedcameralocations=pd.read_csv(\"local_data/speedcameralocationsDF.csv\")"
   ]
  },
  {
   "cell_type": "code",
   "execution_count": 21,
   "metadata": {
    "slideshow": {
     "slide_type": "skip"
    }
   },
   "outputs": [
    {
     "name": "stdout",
     "output_type": "stream",
     "text": [
      "User Guide: https://github.com/keplergl/kepler.gl/blob/master/docs/keplergl-jupyter/user-guide.md\n"
     ]
    }
   ],
   "source": [
    "w3b = keplergl.KeplerGl(height=500)\n",
    "w3b.add_data(data=accidentsondate,name=\"Accidents\")\n",
    "w3b.add_data(data=accidentsondate.loc[31,:].to_frame().transpose(),name=\"MainAccident\")\n",
    "w3b.add_data(data=speedcameralocations,name=\"SpeedCameras\")"
   ]
  },
  {
   "cell_type": "code",
   "execution_count": 22,
   "metadata": {
    "slideshow": {
     "slide_type": "skip"
    }
   },
   "outputs": [
    {
     "name": "stdout",
     "output_type": "stream",
     "text": [
      "kepler_config/config_w3b_accidentlocsSpeedCams-Singapore-Kepler_exec.json opened\n"
     ]
    }
   ],
   "source": [
    "#Read widget config\n",
    "config_filename_w3b = 'kepler_config/config_w3b_accidentlocsSpeedCams-Singapore-Kepler_exec.json'\n",
    "w3b.config          = load_kepler_config(config_filename_w3b)"
   ]
  },
  {
   "cell_type": "code",
   "execution_count": 23,
   "metadata": {
    "slideshow": {
     "slide_type": "subslide"
    }
   },
   "outputs": [
    {
     "data": {
      "application/vnd.jupyter.widget-view+json": {
       "model_id": "8972e4c568724f659907ed34995ec055",
       "version_major": 2,
       "version_minor": 0
      },
      "text/plain": [
       "KeplerGl(config={'version': 'v1', 'config': {'visState': {'filters': [], 'layers': [{'id': 'd4yqoo', 'type': '…"
      ]
     },
     "metadata": {},
     "output_type": "display_data"
    }
   ],
   "source": [
    "w3b"
   ]
  },
  {
   "cell_type": "code",
   "execution_count": 24,
   "metadata": {
    "slideshow": {
     "slide_type": "skip"
    }
   },
   "outputs": [
    {
     "name": "stdout",
     "output_type": "stream",
     "text": [
      "kepler_config/config_w3b_accidentlocsSpeedCams-Singapore-Kepler_exec.json saved\n"
     ]
    }
   ],
   "source": [
    "#Write widget config\n",
    "save_kepler_config(w3b.config, config_filename_w3b, write_kepler)"
   ]
  },
  {
   "cell_type": "markdown",
   "metadata": {
    "slideshow": {
     "slide_type": "subslide"
    }
   },
   "source": [
    "This allows us to notice that there were **no speed cameras near the accident**. \n",
    "\n",
    "However, we can query the dataset to **discover the vehicles which were within 2.5m of the accident location during the 30s preceding the accident**. \n",
    "\n",
    "This query is **performed on a table containing 1.3 trillion rows**."
   ]
  },
  {
   "cell_type": "markdown",
   "metadata": {
    "slideshow": {
     "slide_type": "subslide"
    }
   },
   "source": [
    "## Q3: Query vehicles near accident"
   ]
  },
  {
   "cell_type": "markdown",
   "metadata": {
    "slideshow": {
     "slide_type": "-"
    }
   },
   "source": [
    "The following query will return the vehicles that were within 2.5m of the accident location during the 30s preceding the accident. This allows us\n",
    "to find out what vehicles were in the vicinity of the accident. This query takes advantage of the geotemporal indexing by accessing a historical localized snapshot.\n",
    "\n",
    "This query is performed on a table containing 1.3 Trillion rows."
   ]
  },
  {
   "cell_type": "code",
   "execution_count": 25,
   "metadata": {
    "slideshow": {
     "slide_type": "-"
    }
   },
   "outputs": [],
   "source": [
    "QUERY_vehiclesnearaccident = \"\"\"\n",
    "SELECT DISTINCT(vehicles.erp_vehicle_id) as vehicleid \n",
    "  FROM geospock.default.sg_erp2_synthesis AS vehicles \n",
    " WHERE vehicles.longitude BETWEEN 103.950711575 AND 103.955711575 \n",
    "   AND vehicles.latitude BETWEEN 1.36305117308 AND 1.36805117308 \n",
    "   AND (vehicles.timestamp BETWEEN TIMESTAMP '2019-08-30 17:51:00' - INTERVAL '30' SECOND AND TIMESTAMP '2019-08-30 17:51:00' )\n",
    "\"\"\"    "
   ]
  },
  {
   "cell_type": "code",
   "execution_count": 26,
   "metadata": {},
   "outputs": [
    {
     "name": "stdout",
     "output_type": "stream",
     "text": [
      "Starting query at: 2020-10-03 18:37:27.126697.....\n",
      "Finished query at: 2020-10-03 18:37:31.195969.\n",
      "Query duration: 4 seconds.\n",
      "Rows returned: 106\n"
     ]
    }
   ],
   "source": [
    "# Run query live\n",
    "vehiclesnearaccident = runquery(newconn,[\"VehicleID\"],QUERY_vehiclesnearaccident)"
   ]
  },
  {
   "cell_type": "code",
   "execution_count": 27,
   "metadata": {
    "slideshow": {
     "slide_type": "skip"
    }
   },
   "outputs": [],
   "source": [
    "# Read or write DF locally\n",
    "if write_data:\n",
    "     vehiclesnearaccident.to_csv(\"local_data/vehiclesnearaccidentDF.csv\",header=True,index=False)\n",
    "# vehiclesnearaccident=pd.read_csv(\"local_data/vehiclesnearaccidentDF.csv\")"
   ]
  },
  {
   "cell_type": "markdown",
   "metadata": {
    "slideshow": {
     "slide_type": "subslide"
    }
   },
   "source": [
    "We can see that 106 vehicles were located within 2.5m of the accident during the 30s beforehand.\n",
    "\n",
    "How about their IDs?"
   ]
  },
  {
   "cell_type": "code",
   "execution_count": 28,
   "metadata": {
    "slideshow": {
     "slide_type": "-"
    }
   },
   "outputs": [
    {
     "data": {
      "text/html": [
       "<div>\n",
       "<style scoped>\n",
       "    .dataframe tbody tr th:only-of-type {\n",
       "        vertical-align: middle;\n",
       "    }\n",
       "\n",
       "    .dataframe tbody tr th {\n",
       "        vertical-align: top;\n",
       "    }\n",
       "\n",
       "    .dataframe thead th {\n",
       "        text-align: right;\n",
       "    }\n",
       "</style>\n",
       "<table border=\"1\" class=\"dataframe\">\n",
       "  <thead>\n",
       "    <tr style=\"text-align: right;\">\n",
       "      <th></th>\n",
       "      <th>VehicleID</th>\n",
       "    </tr>\n",
       "  </thead>\n",
       "  <tbody>\n",
       "    <tr>\n",
       "      <th>0</th>\n",
       "      <td>136c86277d447a93afae7755c3cdb6e9</td>\n",
       "    </tr>\n",
       "    <tr>\n",
       "      <th>1</th>\n",
       "      <td>ee86c31efacbec92bbd3ee3426038ac9</td>\n",
       "    </tr>\n",
       "    <tr>\n",
       "      <th>2</th>\n",
       "      <td>fc758c401b0c1544257f212153c084cd</td>\n",
       "    </tr>\n",
       "    <tr>\n",
       "      <th>3</th>\n",
       "      <td>59fc1f50766688bbd136302488ebbc5c</td>\n",
       "    </tr>\n",
       "    <tr>\n",
       "      <th>4</th>\n",
       "      <td>4572d898acbb8cc392180909f2206296</td>\n",
       "    </tr>\n",
       "    <tr>\n",
       "      <th>5</th>\n",
       "      <td>3d36f2b86db15fa9f9381a599dadd60</td>\n",
       "    </tr>\n",
       "    <tr>\n",
       "      <th>6</th>\n",
       "      <td>f2163df9d643b04282e21126ed049a65</td>\n",
       "    </tr>\n",
       "    <tr>\n",
       "      <th>7</th>\n",
       "      <td>fbe04c7ff891b28d07801859e54cf203</td>\n",
       "    </tr>\n",
       "    <tr>\n",
       "      <th>8</th>\n",
       "      <td>3210378e173898db1d3aa43268d695b2</td>\n",
       "    </tr>\n",
       "    <tr>\n",
       "      <th>9</th>\n",
       "      <td>e06e01201312069c28ebcf199f0101f8</td>\n",
       "    </tr>\n",
       "  </tbody>\n",
       "</table>\n",
       "</div>"
      ],
      "text/plain": [
       "                          VehicleID\n",
       "0  136c86277d447a93afae7755c3cdb6e9\n",
       "1  ee86c31efacbec92bbd3ee3426038ac9\n",
       "2  fc758c401b0c1544257f212153c084cd\n",
       "3  59fc1f50766688bbd136302488ebbc5c\n",
       "4  4572d898acbb8cc392180909f2206296\n",
       "5   3d36f2b86db15fa9f9381a599dadd60\n",
       "6  f2163df9d643b04282e21126ed049a65\n",
       "7  fbe04c7ff891b28d07801859e54cf203\n",
       "8  3210378e173898db1d3aa43268d695b2\n",
       "9  e06e01201312069c28ebcf199f0101f8"
      ]
     },
     "execution_count": 28,
     "metadata": {},
     "output_type": "execute_result"
    }
   ],
   "source": [
    "vehiclesnearaccident.head(10)"
   ]
  },
  {
   "cell_type": "markdown",
   "metadata": {
    "slideshow": {
     "slide_type": "-"
    }
   },
   "source": [
    "Having identified the **vehicles of interest**, we would like to know where these vehicles were travelling to and from on their **journeys**..."
   ]
  },
  {
   "cell_type": "markdown",
   "metadata": {
    "slideshow": {
     "slide_type": "slide"
    }
   },
   "source": [
    "## Q4: Get vehicle trajectories"
   ]
  },
  {
   "cell_type": "markdown",
   "metadata": {},
   "source": [
    "With the vehicles IDs we can find their trajectories using the following query that takes advantage of unique vehicle or fleet history by device ID set."
   ]
  },
  {
   "cell_type": "code",
   "execution_count": 29,
   "metadata": {
    "slideshow": {
     "slide_type": "-"
    }
   },
   "outputs": [],
   "source": [
    "QUERY_ERPtrajectory_vehsnearaccident=\"\"\"\n",
    "SELECT erppoints.* \n",
    "  FROM geospock.default.sg_erp2_synthesis AS erppoints \n",
    " WHERE erppoints.erp_vehicle_id IN \"\"\"+str(tuple(vehiclesnearaccident.VehicleID))+\"\"\"\n",
    "   AND erppoints.timestamp BETWEEN TIMESTAMP '2019-08-30 00:00:00' AND TIMESTAMP '2019-08-31 00:00:00'\n",
    "\"\"\""
   ]
  },
  {
   "cell_type": "code",
   "execution_count": 30,
   "metadata": {
    "slideshow": {
     "slide_type": "-"
    }
   },
   "outputs": [
    {
     "name": "stdout",
     "output_type": "stream",
     "text": [
      "Starting query at: 2020-10-03 18:37:31.221809.....\n",
      "Finished query at: 2020-10-03 18:37:49.210550.\n",
      "Query duration: 17 seconds.\n",
      "Rows returned: 147921\n"
     ]
    }
   ],
   "source": [
    "erpcols               = ['longitude', 'latitude', 'erp_vehicle_id', 'timestamp', 'erp_vehicle_types']\n",
    "# Run query live\n",
    "trajectories_accident = runquery(newconn,erpcols,QUERY_ERPtrajectory_vehsnearaccident)"
   ]
  },
  {
   "cell_type": "code",
   "execution_count": 31,
   "metadata": {
    "slideshow": {
     "slide_type": "skip"
    }
   },
   "outputs": [],
   "source": [
    "# Read or write DF locally\n",
    "if write_data:\n",
    "    trajectories_accident.to_csv(\"local_data/trajectoriesaccidentDF.csv\",header=True,index=False)\n",
    "# trajectories_accident=pd.read_csv(\"local_data/trajectoriesaccidentDF.csv\")"
   ]
  },
  {
   "cell_type": "code",
   "execution_count": 32,
   "metadata": {
    "slideshow": {
     "slide_type": "skip"
    }
   },
   "outputs": [
    {
     "name": "stdout",
     "output_type": "stream",
     "text": [
      "User Guide: https://github.com/keplergl/kepler.gl/blob/master/docs/keplergl-jupyter/user-guide.md\n"
     ]
    }
   ],
   "source": [
    "w4 = keplergl.KeplerGl(height=500)\n",
    "w4.add_data(data=trajectories_accident,name=\"Trajectories\")\n",
    "w4.add_data(data=accidentsondate.loc[31,:].to_frame().transpose(),name=\"MainAccident\")"
   ]
  },
  {
   "cell_type": "code",
   "execution_count": 33,
   "metadata": {
    "slideshow": {
     "slide_type": "skip"
    }
   },
   "outputs": [
    {
     "name": "stdout",
     "output_type": "stream",
     "text": [
      "kepler_config/config_w4_vehicleTracks-Singapore-Kepler.json opened\n"
     ]
    }
   ],
   "source": [
    "#Read widget config\n",
    "config_filename_w4 = 'kepler_config/config_w4_vehicleTracks-Singapore-Kepler.json'\n",
    "w4.config          = load_kepler_config(config_filename_w4)"
   ]
  },
  {
   "cell_type": "code",
   "execution_count": 34,
   "metadata": {
    "slideshow": {
     "slide_type": "subslide"
    }
   },
   "outputs": [
    {
     "data": {
      "application/vnd.jupyter.widget-view+json": {
       "model_id": "64a2e4a1eaa54029afd0d601a433f546",
       "version_major": 2,
       "version_minor": 0
      },
      "text/plain": [
       "KeplerGl(config={'version': 'v1', 'config': {'visState': {'filters': [], 'layers': [{'id': 'gi5xauo', 'type': …"
      ]
     },
     "metadata": {},
     "output_type": "display_data"
    }
   ],
   "source": [
    "w4"
   ]
  },
  {
   "cell_type": "code",
   "execution_count": 35,
   "metadata": {
    "slideshow": {
     "slide_type": "skip"
    }
   },
   "outputs": [
    {
     "name": "stdout",
     "output_type": "stream",
     "text": [
      "kepler_config/config_w4_vehicleTracks-Singapore-Kepler.json saved\n"
     ]
    }
   ],
   "source": [
    "# Write widget config\n",
    "save_kepler_config(w4.config, config_filename_w4, write_kepler)"
   ]
  },
  {
   "cell_type": "markdown",
   "metadata": {
    "slideshow": {
     "slide_type": "subslide"
    }
   },
   "source": [
    "Furthermore, the investigator has a theory that **the accident may have involved a taxi driver**. \n",
    "In order to assist the inquiry, we query where any **taxis** which were in the vicinity of the accident were traveling to/from, and the route they took."
   ]
  },
  {
   "cell_type": "markdown",
   "metadata": {
    "slideshow": {
     "slide_type": "slide"
    }
   },
   "source": [
    "## Q5: Get taxi trajectories"
   ]
  },
  {
   "cell_type": "markdown",
   "metadata": {
    "slideshow": {
     "slide_type": "-"
    }
   },
   "source": [
    "The investigator can now identify which taxis were in the vicinity of the accident using unique vehicle or fleet history by device ID set and/or secondary field."
   ]
  },
  {
   "cell_type": "code",
   "execution_count": 36,
   "metadata": {
    "slideshow": {
     "slide_type": "-"
    }
   },
   "outputs": [],
   "source": [
    "QUERY_ERPtrajectory_taxisnearaccident=\"\"\"\n",
    "SELECT erppoints.* \n",
    "  FROM geospock.default.sg_erp2_synthesis AS erppoints \n",
    " WHERE erppoints.erp_vehicle_id IN \"\"\"+str(tuple(vehiclesnearaccident.VehicleID))+\"\"\"\n",
    "   AND erppoints.erp_vehicle_types IN ('Taxi') \n",
    "   AND erppoints.timestamp BETWEEN TIMESTAMP '2019-08-30 00:00:00' AND TIMESTAMP '2019-08-31 00:00:00'\n",
    "\"\"\""
   ]
  },
  {
   "cell_type": "code",
   "execution_count": 37,
   "metadata": {
    "slideshow": {
     "slide_type": "-"
    }
   },
   "outputs": [
    {
     "name": "stdout",
     "output_type": "stream",
     "text": [
      "Starting query at: 2020-10-03 18:37:55.467256.....\n",
      "Finished query at: 2020-10-03 18:38:22.234358.\n",
      "Query duration: 26 seconds.\n",
      "Rows returned: 2023\n"
     ]
    }
   ],
   "source": [
    "# Run query live\n",
    "trajectories_taxis_accident=runquery(newconn,erpcols,QUERY_ERPtrajectory_taxisnearaccident)"
   ]
  },
  {
   "cell_type": "code",
   "execution_count": 38,
   "metadata": {
    "slideshow": {
     "slide_type": "skip"
    }
   },
   "outputs": [],
   "source": [
    "# Read or write DF locally\n",
    "if write_data:\n",
    "    trajectories_taxis_accident.to_csv(\"local_data/trajectoriestaxisaccidentDF.csv\",header=True,index=False)\n",
    "# trajectories_taxis_accident=pd.read_csv(\"local_data/trajectoriestaxisaccidentDF.csv\")"
   ]
  },
  {
   "cell_type": "markdown",
   "metadata": {
    "slideshow": {
     "slide_type": "subslide"
    }
   },
   "source": [
    "The investigator can now identify which taxis were in the vicinity of the accident:"
   ]
  },
  {
   "cell_type": "code",
   "execution_count": 39,
   "metadata": {
    "slideshow": {
     "slide_type": "-"
    }
   },
   "outputs": [
    {
     "data": {
      "text/plain": [
       "array(['587200174ae46ad63551ccaff3588e11'], dtype=object)"
      ]
     },
     "execution_count": 39,
     "metadata": {},
     "output_type": "execute_result"
    }
   ],
   "source": [
    "trajectories_taxis_accident.erp_vehicle_id.unique()"
   ]
  },
  {
   "cell_type": "markdown",
   "metadata": {
    "slideshow": {
     "slide_type": "-"
    }
   },
   "source": [
    "... hence, it can be seen that **only one taxi** was passing through the accident location at the time of interest, and the investigator can easily see where it was going to and from:"
   ]
  },
  {
   "cell_type": "code",
   "execution_count": 40,
   "metadata": {
    "slideshow": {
     "slide_type": "skip"
    }
   },
   "outputs": [
    {
     "name": "stdout",
     "output_type": "stream",
     "text": [
      "User Guide: https://github.com/keplergl/kepler.gl/blob/master/docs/keplergl-jupyter/user-guide.md\n"
     ]
    }
   ],
   "source": [
    "w4b = keplergl.KeplerGl(height=500)\n",
    "w4b.add_data(data=trajectories_taxis_accident,name=\"Taxi Trajectory\")\n",
    "w4b.add_data(data=accidentsondate.loc[31,:].to_frame().transpose(),name=\"MainAccident\")"
   ]
  },
  {
   "cell_type": "code",
   "execution_count": 41,
   "metadata": {
    "slideshow": {
     "slide_type": "skip"
    }
   },
   "outputs": [
    {
     "name": "stdout",
     "output_type": "stream",
     "text": [
      "kepler_config/config_w4b_taxiTrack-Singapore-Kepler.json opened\n"
     ]
    }
   ],
   "source": [
    "#Read widget config\n",
    "config_filename_w4b ='kepler_config/config_w4b_taxiTrack-Singapore-Kepler.json'\n",
    "w4b.config          = load_kepler_config(config_filename_w4b)    "
   ]
  },
  {
   "cell_type": "code",
   "execution_count": 42,
   "metadata": {
    "slideshow": {
     "slide_type": "subslide"
    }
   },
   "outputs": [
    {
     "data": {
      "application/vnd.jupyter.widget-view+json": {
       "model_id": "09d027f5925a4521801d0d68905ea9ba",
       "version_major": 2,
       "version_minor": 0
      },
      "text/plain": [
       "KeplerGl(config={'version': 'v1', 'config': {'visState': {'filters': [], 'layers': [{'id': 'qlxzaec', 'type': …"
      ]
     },
     "metadata": {},
     "output_type": "display_data"
    }
   ],
   "source": [
    "w4b"
   ]
  },
  {
   "cell_type": "code",
   "execution_count": 43,
   "metadata": {
    "slideshow": {
     "slide_type": "skip"
    }
   },
   "outputs": [
    {
     "name": "stdout",
     "output_type": "stream",
     "text": [
      "kepler_config/config_w4b_taxiTrack-Singapore-Kepler.json saved\n"
     ]
    }
   ],
   "source": [
    "# Write widget config\n",
    "save_kepler_config(w4b.config, config_filename_w4b, write_kepler)"
   ]
  },
  {
   "cell_type": "markdown",
   "metadata": {
    "slideshow": {
     "slide_type": "subslide"
    }
   },
   "source": [
    "The investigator can now **make enquiries about this taxi and the driver!**\n",
    "\n",
    "We see that **the accident took place at a busy time of day around the area of interest**, so it is possible that heavy traffic could have contributed to the accident."
   ]
  },
  {
   "cell_type": "markdown",
   "metadata": {
    "slideshow": {
     "slide_type": "slide"
    }
   },
   "source": [
    "## Q6: Individual vehicle analysis. All origins and destinations of one taxi over a month"
   ]
  },
  {
   "cell_type": "markdown",
   "metadata": {
    "slideshow": {
     "slide_type": "-"
    }
   },
   "source": [
    "The investigator now wishes to **delve further into the behavior of the particular taxi** identified as being associated with the accident. It is thought that the driver is involved in criminal activity!\n",
    "\n",
    " To assist the investigator, we can query **all the origins and destinations of the taxi over the period of interest (one month, in this case)**. "
   ]
  },
  {
   "cell_type": "code",
   "execution_count": 44,
   "metadata": {
    "slideshow": {
     "slide_type": "subslide"
    }
   },
   "outputs": [],
   "source": [
    "QUERY_individualvehiclestartends= \"\"\"\n",
    "   SELECT \n",
    "          date_trunc('day',vehicles.timestamp) AS dayref, \n",
    "          min_by( vehicles.latitude , vehicles.timestamp )  AS startlat, \n",
    "          min_by( vehicles.longitude , vehicles.timestamp ) AS startlon, \n",
    "          max_by( vehicles.latitude , vehicles.timestamp ) AS endlat, \n",
    "          max_by( vehicles.longitude , vehicles.timestamp ) AS endlon, \n",
    "          min(vehicles.timestamp) as starttime, \n",
    "          max(vehicles.timestamp) as endtime \n",
    "     FROM geospock.default.sg_erp2_synthesis AS vehicles \n",
    "    WHERE vehicles.erp_vehicle_id IN ('587200174ae46ad63551ccaff3588e11') \n",
    "      AND vehicles.timestamp BETWEEN TIMESTAMP '2019-08-01 00:00:00' AND TIMESTAMP '2019-09-01 00:00:00'\n",
    "GROUP BY 1 \n",
    "ORDER BY 1\n",
    "\"\"\""
   ]
  },
  {
   "cell_type": "code",
   "execution_count": 45,
   "metadata": {
    "slideshow": {
     "slide_type": "-"
    }
   },
   "outputs": [
    {
     "name": "stdout",
     "output_type": "stream",
     "text": [
      "Starting query at: 2020-10-03 18:38:22.416136.....\n",
      "Finished query at: 2020-10-03 18:38:40.605291.\n",
      "Query duration: 18 seconds.\n",
      "Rows returned: 18\n"
     ]
    }
   ],
   "source": [
    "# Run query live\n",
    "individualvehiclestartends = runquery(newconn, ['Day','StartLat','StartLon','EndLat','EndLon','StartTime','EndTime'], QUERY_individualvehiclestartends)"
   ]
  },
  {
   "cell_type": "code",
   "execution_count": 46,
   "metadata": {
    "slideshow": {
     "slide_type": "skip"
    }
   },
   "outputs": [],
   "source": [
    "# Read or write DF locally\n",
    "if write_data:\n",
    "     individualvehiclestartends.to_csv(\"local_data/individualvehiclestartendsDF.csv\",header=True,index=False)\n",
    "# individualvehiclestartends=pd.read_csv(\"local_data/individualvehiclestartendsDF.csv\")"
   ]
  },
  {
   "cell_type": "code",
   "execution_count": 47,
   "metadata": {
    "slideshow": {
     "slide_type": "skip"
    }
   },
   "outputs": [
    {
     "name": "stdout",
     "output_type": "stream",
     "text": [
      "User Guide: https://github.com/keplergl/kepler.gl/blob/master/docs/keplergl-jupyter/user-guide.md\n"
     ]
    }
   ],
   "source": [
    "w5 = keplergl.KeplerGl(height=500)\n",
    "w5.add_data(data=individualvehiclestartends,name=\"Vehicle Journeys\")\n",
    "w5.add_data(data=accidentsondate.loc[31,:].to_frame().transpose(),name=\"MainAccident\")"
   ]
  },
  {
   "cell_type": "code",
   "execution_count": 48,
   "metadata": {
    "slideshow": {
     "slide_type": "skip"
    }
   },
   "outputs": [
    {
     "name": "stdout",
     "output_type": "stream",
     "text": [
      "kepler_config/config_w5_taxistartends-Singapore-Kepler.json opened\n"
     ]
    }
   ],
   "source": [
    "#Read widget config\n",
    "config_filename_w5 = 'kepler_config/config_w5_taxistartends-Singapore-Kepler.json'\n",
    "w5.config          = load_kepler_config(config_filename_w5)"
   ]
  },
  {
   "cell_type": "code",
   "execution_count": 49,
   "metadata": {
    "hidePrompt": true,
    "slideshow": {
     "slide_type": "subslide"
    }
   },
   "outputs": [
    {
     "data": {
      "application/vnd.jupyter.widget-view+json": {
       "model_id": "c091ee34e704462e94b9e83e233d0c8d",
       "version_major": 2,
       "version_minor": 0
      },
      "text/plain": [
       "KeplerGl(config={'version': 'v1', 'config': {'visState': {'filters': [], 'layers': [{'id': 'ccjhzy', 'type': '…"
      ]
     },
     "metadata": {},
     "output_type": "display_data"
    }
   ],
   "source": [
    "w5"
   ]
  },
  {
   "cell_type": "code",
   "execution_count": 50,
   "metadata": {
    "slideshow": {
     "slide_type": "skip"
    }
   },
   "outputs": [
    {
     "name": "stdout",
     "output_type": "stream",
     "text": [
      "kepler_config/config_w5_taxistartends-Singapore-Kepler.json saved\n"
     ]
    }
   ],
   "source": [
    "# #Write widget config\n",
    "save_kepler_config(w5.config, config_filename_w5, write_kepler)"
   ]
  },
  {
   "cell_type": "markdown",
   "metadata": {
    "slideshow": {
     "slide_type": "subslide"
    }
   },
   "source": [
    "From the graphics visualization it can be seen that the taxi hasn't made too many trips. Perhaps this is due to the fact that this taxi is a masquerade for other more nefarious activities. The investigator now has a few leads to explore thanks to the data analysis conducted. \n",
    "\n",
    "**Our job here is done!**"
   ]
  },
  {
   "cell_type": "markdown",
   "metadata": {
    "slideshow": {
     "slide_type": "slide"
    }
   },
   "source": [
    "# Virtual ERP Gantry\n",
    "Our accident investigator wishes to **understand whether heavy traffic may have contributed to the accident.**\n",
    "\n",
    "We can assist by querying the counts per minute of distinct vehicle IDs within a defined radius of a gantry located near the accident site."
   ]
  },
  {
   "cell_type": "markdown",
   "metadata": {
    "slideshow": {
     "slide_type": "subslide"
    }
   },
   "source": [
    "## Q7: Query all vehicles passing through a defined spatial window over a day grouped by minute"
   ]
  },
  {
   "cell_type": "markdown",
   "metadata": {
    "slideshow": {
     "slide_type": "-"
    }
   },
   "source": [
    " The following query takes advantage of geotemporal indexing by using the data access pattern known as historical localized snapshot."
   ]
  },
  {
   "cell_type": "code",
   "execution_count": 51,
   "metadata": {
    "slideshow": {
     "slide_type": "subslide"
    }
   },
   "outputs": [],
   "source": [
    "QUERY_vehiclecounts_gantry=\"\"\"\n",
    "  SELECT date_trunc('minute',erp.timestamp), COUNT(DISTINCT(erp.erp_vehicle_id)) \n",
    "    FROM geospock.default.sg_erp2_synthesis AS erp \n",
    "   WHERE erp.longitude BETWEEN 103.950711575 AND 103.955711575 \n",
    "     AND erp.latitude BETWEEN 1.36305117308 AND 1.36805117308 \n",
    "     AND timestamp BETWEEN TIMESTAMP '2019-08-30 00:00:00' AND TIMESTAMP '2019-08-31 00:00:00' \n",
    "GROUP BY 1 \n",
    "ORDER BY 1\n",
    "\"\"\""
   ]
  },
  {
   "cell_type": "code",
   "execution_count": 52,
   "metadata": {
    "slideshow": {
     "slide_type": "-"
    }
   },
   "outputs": [
    {
     "name": "stdout",
     "output_type": "stream",
     "text": [
      "Starting query at: 2020-10-03 18:38:40.659514.....\n",
      "Finished query at: 2020-10-03 18:38:46.101455.\n",
      "Query duration: 5 seconds.\n",
      "Rows returned: 1440\n"
     ]
    }
   ],
   "source": [
    "# Run query live\n",
    "gantrycountsdata=runquery(newconn,[\"Minute\",\"Count\"],QUERY_vehiclecounts_gantry)"
   ]
  },
  {
   "cell_type": "code",
   "execution_count": 53,
   "metadata": {
    "slideshow": {
     "slide_type": "skip"
    }
   },
   "outputs": [],
   "source": [
    "# Read or write DF locally\n",
    "if write_data:\n",
    "    gantrycountsdata.to_csv(\"local_data/gantrycountsDF.csv\",header=True,index=False)\n",
    "# gantrycountsdata=pd.read_csv(\"local_data/gantrycountsDF.csv\")"
   ]
  },
  {
   "cell_type": "markdown",
   "metadata": {},
   "source": [
    "The vehicle counts of this virtual EPR gantry are shown in the figure below. From there it can be seen that the traffic around that area looks like what we would expect, with peaks at around 6:00-8:00 and then 16:00-19:00 due to rush hour traffic."
   ]
  },
  {
   "cell_type": "code",
   "execution_count": 54,
   "metadata": {
    "hideCode": false,
    "slideshow": {
     "slide_type": "subslide"
    }
   },
   "outputs": [
    {
     "data": {
      "image/png": "[encoded data removed]",
      "text/plain": [
       "<Figure size 864x360 with 1 Axes>"
      ]
     },
     "metadata": {
      "needs_background": "light"
     },
     "output_type": "display_data"
    }
   ],
   "source": [
    "fig, axes = plt.subplots(nrows=1, ncols=1)\n",
    "fig.suptitle('Gantry count/minute for vehicles through the day', fontsize=24)\n",
    "gantrycountsdata.plot(ax=axes,legend=False,figsize=[12,5])\n",
    "axes.set_ylabel(\"Count/minute\",fontsize=20)\n",
    "axes.set_xlabel(\"Hour of day\",fontsize=20)\n",
    "axes.grid(linestyle='-', linewidth='0.5')\n",
    "axes.axvline(x=(60*17.83),color='r')\n",
    "axes.set_xticks(np.arange(0, 24*60, step=120.0))\n",
    "ticks_x = ticker.FuncFormatter(lambda x, pos: '{0:g}'.format(x/60))\n",
    "axes.xaxis.set_major_formatter(ticks_x)\n",
    "plt.setp(axes.get_xticklabels(),fontsize=16,rotation=0)\n",
    "plt.setp(axes.get_yticklabels(),fontsize=16,rotation=0)\n",
    "plt.show()\n",
    "plt.close()"
   ]
  },
  {
   "cell_type": "markdown",
   "metadata": {
    "slideshow": {
     "slide_type": "subslide"
    }
   },
   "source": [
    "Moreover, to assess the effect that the accident had on traffic, the investigator wishes to **understand the traffic speeds in the vicinity of the accident.**\n",
    "\n",
    "We thus **query the minimum traffic speeds within a few meters of the accident location** over the time period of the accident. This query uses the data access pattern spatial join of events vs. POIs."
   ]
  },
  {
   "cell_type": "markdown",
   "metadata": {
    "slideshow": {
     "slide_type": "slide"
    }
   },
   "source": [
    "## Q8: Speed bands in vicinity of accident"
   ]
  },
  {
   "cell_type": "code",
   "execution_count": 55,
   "metadata": {
    "slideshow": {
     "slide_type": "-"
    }
   },
   "outputs": [],
   "source": [
    "QUERY_speedbands_near_accident = \"\"\"\n",
    "SELECT speedbandtable.*\n",
    "  FROM geospock.default.sg_speed_bands AS speedbandtable \n",
    " WHERE (ST_Distance(ST_Point(speedbandtable.longitude1, speedbandtable.latitude1), ST_Point(103.95321157469873, 1.3655511730786898)) < 0.00025\n",
    "   AND speedbandtable.timestamp BETWEEN TIMESTAMP '2019-08-30 15:00:00' AND TIMESTAMP '2019-08-31 00:00:00')\n",
    "\"\"\""
   ]
  },
  {
   "cell_type": "code",
   "execution_count": 56,
   "metadata": {
    "slideshow": {
     "slide_type": "-"
    }
   },
   "outputs": [
    {
     "name": "stdout",
     "output_type": "stream",
     "text": [
      "Starting query at: 2020-10-03 18:38:46.324002.....\n",
      "Finished query at: 2020-10-03 18:38:48.193574.\n",
      "Query duration: 1 seconds.\n",
      "Rows returned: 76\n"
     ]
    }
   ],
   "source": [
    "speedbandcols          = ['linkid', 'timestamp', 'latitude1',\\\n",
    "                          'longitude1', 'roadname', 'roadcategory',\\\n",
    "                          'speedband', 'minimumspeed', 'maximumspeed', 'latitude2', 'longitude2']\n",
    "# Run query live\n",
    "speedbandsnearaccident = runquery(newconn,speedbandcols,QUERY_speedbands_near_accident)"
   ]
  },
  {
   "cell_type": "code",
   "execution_count": 57,
   "metadata": {
    "slideshow": {
     "slide_type": "skip"
    }
   },
   "outputs": [],
   "source": [
    "# Read or write DF locally\n",
    "if write_data:\n",
    "    speedbandsnearaccident.to_csv(\"local_data/speedbandsnearaccidentDF.csv\",header=True,index=False)\n",
    "# speedbandsnearaccident=pd.read_csv(\"local_data/speedbandsnearaccidentDF.csv\")"
   ]
  },
  {
   "cell_type": "code",
   "execution_count": 58,
   "metadata": {
    "slideshow": {
     "slide_type": "skip"
    }
   },
   "outputs": [],
   "source": [
    "speedbandsnearaccident[\"minimumspeed\"] = speedbandsnearaccident[\"minimumspeed\"].map(float)\n",
    "speedbandsnearaccident[\"timestamp\"]    = pd.to_datetime(speedbandsnearaccident[\"timestamp\"])\n",
    "speedbandsnearaccident[\"hour\"]         = speedbandsnearaccident[\"timestamp\"].dt.hour\n",
    "speedbandsnearaccidentagg              = speedbandsnearaccident.groupby([\"linkid\",\"hour\"])\\\n",
    "                                         .agg({\"minimumspeed\":\"mean\"}).reset_index()\\\n",
    "                                         .query('hour>0').reset_index().drop('index',axis=1)"
   ]
  },
  {
   "cell_type": "code",
   "execution_count": 59,
   "metadata": {
    "slideshow": {
     "slide_type": "subslide"
    }
   },
   "outputs": [
    {
     "data": {
      "image/png": "[encoded data removed]",
      "text/plain": [
       "<Figure size 864x648 with 2 Axes>"
      ]
     },
     "metadata": {
      "needs_background": "light"
     },
     "output_type": "display_data"
    }
   ],
   "source": [
    "fig, axes = plt.subplots(nrows=2, ncols=1,figsize=(12,9))\n",
    "fig.suptitle('Minimum speed through accident location', fontsize=24)\n",
    "plt.tight_layout(pad=5, w_pad=5, h_pad=8,rect=[0, 0, 1, 0.98])\n",
    "speedbandsnearaccidentagg.query(\"linkid=='103103050'\").plot.bar(\"hour\",\"minimumspeed\",ax=axes[0],legend=True,label=\"Direction A\",color=['blue','blue','red','red','red','blue','blue','blue','blue'])\n",
    "speedbandsnearaccidentagg.query(\"linkid=='103103047'\").plot.bar(\"hour\",\"minimumspeed\",ax=axes[1],legend=True,label=\"Direction B\",color=['green','green','red','red','red','green','green','green','green'])\n",
    "for n in [0,1]:\n",
    "    axes[n].set_ylabel(\"Minimum Speed (km/h)\",fontsize=20)\n",
    "    axes[n].set_xlabel(\"Timestamp\",fontsize=20)\n",
    "    axes[n].grid(linestyle='-', linewidth='0.5')\n",
    "    axes[n].legend(fontsize=16,loc='upper right')\n",
    "    plt.setp(axes[n].get_xticklabels(),fontsize=16,rotation=0)\n",
    "    plt.setp(axes[n].get_yticklabels(),fontsize=16,rotation=0)\n",
    "plt.show()\n",
    "plt.close()"
   ]
  },
  {
   "cell_type": "markdown",
   "metadata": {
    "slideshow": {
     "slide_type": "slide"
    }
   },
   "source": [
    "# Summary\n",
    "\n",
    "We have explored a few example queries you can run using Python and Jupyter Notebooks with GeoSpock DB Discovery.\n",
    "\n",
    "This is by no means an exhaustive list of the types of analysis you can do – please continue your Discovery journey by trying out new queries, using our examples for inspiration. You never know when the investigator will be back with more questions about that taxi…"
   ]
  }
 ],
 "metadata": {
  "celltoolbar": "Slideshow",
  "kernelspec": {
   "display_name": "Python 3",
   "language": "python",
   "name": "python3"
  },
  "language_info": {
   "codemirror_mode": {
    "name": "ipython",
    "version": 3
   },
   "file_extension": ".py",
   "mimetype": "text/x-python",
   "name": "python",
   "nbconvert_exporter": "python",
   "pygments_lexer": "ipython3",
   "version": "3.7.3"
  }
 },
 "nbformat": 4,
 "nbformat_minor": 4
}
